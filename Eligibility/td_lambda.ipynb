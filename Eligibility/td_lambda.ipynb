{
 "cells": [
  {
   "cell_type": "code",
   "execution_count": 1,
   "metadata": {},
   "outputs": [],
   "source": [
    "%matplotlib inline\n",
    "import random\n",
    "import matplotlib.pyplot as plt\n",
    "import numpy as np\n",
    "import copy"
   ]
  },
  {
   "cell_type": "code",
   "execution_count": 2,
   "metadata": {},
   "outputs": [],
   "source": [
    "def get_reward(state):\n",
    "    if state == 'rterm':\n",
    "        return 1.\n",
    "    else:\n",
    "        return 0.\n",
    "    \n",
    "def td_zero(no_episodes, states, gamma=0.99, alpha=0.1):\n",
    "    V = np.zeros(len(states))\n",
    "    E = np.zeros(len(states))\n",
    "    for _ in range(no_episodes):\n",
    "        s = len(states) // 2   # initialize start_state_index\n",
    "        while states[s] not in terminals:\n",
    "            action = -1 if random.randint(0, 1) else 1    # random policy\n",
    "            next_s = s + action # next state index\n",
    "            reward = get_reward(states[next_s])\n",
    "            delta = alpha * (reward + gamma * V[next_s] - V[s])\n",
    "            V[s] = V[s] + delta\n",
    "            s = next_s\n",
    "    return V"
   ]
  },
  {
   "cell_type": "markdown",
   "metadata": {
    "collapsed": true
   },
   "source": [
    "## 19-state Random walk experiment with eligibility traces (TD($\\lambda$))"
   ]
  },
  {
   "cell_type": "code",
   "execution_count": 3,
   "metadata": {},
   "outputs": [],
   "source": [
    "def td_lambda(no_episodes, states, rule, gamma=0.99, alpha=0.5, lam=0.9):\n",
    "    V = np.zeros(len(states))\n",
    "    E = np.zeros(len(states))\n",
    "    for _ in range(no_episodes):\n",
    "        s = len(states) // 2   # initialize start_state_index\n",
    "        while states[s] not in terminals:\n",
    "            action = -1 if random.randint(0, 1) else 1    # random policy\n",
    "            next_s = s + action # next state index\n",
    "            reward = get_reward(states[next_s])\n",
    "            delta = reward + gamma * V[next_s] - V[s]\n",
    "            if rule == 'accumulation':\n",
    "                E[s] = E[s] + 1\n",
    "            elif rule == 'replacing':\n",
    "                E[s] = 1\n",
    "            else:\n",
    "                raise ValueError('Rule must be defined.')\n",
    "            # for each state, we update the values and traces.\n",
    "            V = V + (alpha * delta * E)\n",
    "            E = gamma * lam * E\n",
    "            \n",
    "            s = next_s\n",
    "    return V"
   ]
  },
  {
   "cell_type": "code",
   "execution_count": 4,
   "metadata": {},
   "outputs": [],
   "source": [
    "states = list(range(19))\n",
    "terminals = ('lterm', 'rterm')\n",
    "states = [terminals[0]] + states + [terminals[1]]"
   ]
  },
  {
   "cell_type": "code",
   "execution_count": 5,
   "metadata": {},
   "outputs": [],
   "source": [
    "V_accum = td_lambda(100, states, rule='accumulation')\n",
    "V_replace = td_lambda(100, states, rule='replacing')\n",
    "V_tdzero = td_zero(100, states)"
   ]
  },
  {
   "cell_type": "code",
   "execution_count": 6,
   "metadata": {},
   "outputs": [
    {
     "data": {
      "text/plain": [
       "<matplotlib.legend.Legend at 0x21d3f38ec18>"
      ]
     },
     "execution_count": 6,
     "metadata": {},
     "output_type": "execute_result"
    },
    {
     "data": {
      "image/png": "[encoded data removed]",
      "text/plain": [
       "<Figure size 432x288 with 1 Axes>"
      ]
     },
     "metadata": {
      "needs_background": "light"
     },
     "output_type": "display_data"
    }
   ],
   "source": [
    "plt.plot([i/(len(states)-1) for i in range(1, len(states)-1)], 'ko-')\n",
    "plt.plot([V_accum[x] for x in range(1, len(states)-1)], 'ko-', color='red', label='TD_accum')\n",
    "plt.plot([V_replace[x] for x in range(1, len(states)-1)], 'ko-', color='blue', label='TD_replace')\n",
    "plt.plot([V_tdzero[x] for x in range(1, len(states)-1)], 'ko-', color='green', label='TD_ZERO')\n",
    "\n",
    "plt.xticks(range(len(states)-1), states[1:-1])\n",
    "plt.ylim([0,1])\n",
    "plt.legend(loc='best')"
   ]
  },
  {
   "cell_type": "code",
   "execution_count": 7,
   "metadata": {},
   "outputs": [
    {
     "name": "stdout",
     "output_type": "stream",
     "text": [
      "TD_accum: 0.9114201448745672\n",
      "TD_replace: 0.836570629401514\n",
      "TD_ZERO 1.9068242890800764\n"
     ]
    }
   ],
   "source": [
    "True_Vs = np.array([i/(len(states)-1) for i in range(1, len(states)-1)])\n",
    "errs_accum = []\n",
    "errs_replace = []\n",
    "errs_tdzero = []\n",
    "for n in range(30):\n",
    "    errs_accum.append(np.sum(np.square(True_Vs-td_lambda(100, states, rule='accumulation')[1:-1])))\n",
    "    errs_replace.append(np.sum(np.square(True_Vs-td_lambda(100, states, rule='replacing')[1:-1])))\n",
    "    errs_tdzero.append(np.sum(np.square(True_Vs-td_zero(100, states)[1:-1])))\n",
    "print('TD_accum:', np.mean(errs_accum))\n",
    "print('TD_replace:', np.mean(errs_replace))\n",
    "print('TD_ZERO', np.mean(errs_tdzero))"
   ]
  },
  {
   "cell_type": "markdown",
   "metadata": {},
   "source": [
    "<img src=\"fig7_9.PNG\" width=\"600\" align=\"left\">"
   ]
  },
  {
   "cell_type": "code",
   "execution_count": 8,
   "metadata": {},
   "outputs": [],
   "source": [
    "lams = [0, 0.2, 0.4, 0.6, 0.8, 0.9, 0.95, 0.975, 0.99, 1]\n",
    "results = []\n",
    "TV = np.array([i/(len(states)-1) for i in range(1, len(states)-1)])\n",
    "for lam in lams:\n",
    "    temp = []\n",
    "    for _ in range(10):\n",
    "        V = td_lambda(10, states, rule='replacing', alpha=0.5, lam=lam)[1:-1]\n",
    "        rms = np.sqrt(np.square(TV-V))  # root-mean-squared-error\n",
    "        avg_error_states = np.mean(rms)\n",
    "        temp.append(avg_error_states)\n",
    "    results.append(np.mean(temp))"
   ]
  },
  {
   "cell_type": "code",
   "execution_count": 9,
   "metadata": {},
   "outputs": [
    {
     "data": {
      "text/plain": [
       "Text(0, 0.5, 'RMS')"
      ]
     },
     "execution_count": 9,
     "metadata": {},
     "output_type": "execute_result"
    },
    {
     "data": {
      "image/png": "[encoded data removed]",
      "text/plain": [
       "<Figure size 432x288 with 1 Axes>"
      ]
     },
     "metadata": {
      "needs_background": "light"
     },
     "output_type": "display_data"
    }
   ],
   "source": [
    "plt.close()\n",
    "plt.bar(range(len(results)), results)\n",
    "plt.xticks(range(len(results)), lams)\n",
    "plt.ylim([0.1,0.55])\n",
    "plt.xlabel('Lambda value')\n",
    "plt.ylabel('RMS')"
   ]
  }
 ],
 "metadata": {
  "kernelspec": {
   "display_name": "Python 3",
   "language": "python",
   "name": "python3"
  },
  "language_info": {
   "codemirror_mode": {
    "name": "ipython",
    "version": 3
   },
   "file_extension": ".py",
   "mimetype": "text/x-python",
   "name": "python",
   "nbconvert_exporter": "python",
   "pygments_lexer": "ipython3",
   "version": "3.6.6"
  }
 },
 "nbformat": 4,
 "nbformat_minor": 1
}
