{
 "cells": [
  {
   "cell_type": "markdown",
   "metadata": {},
   "source": [
    "# Value Prediction Problem with TD(0)\n",
    "\n",
    "<img src=\"random_walk.PNG\" width=700 height=400 algin=\"left\">"
   ]
  },
  {
   "cell_type": "code",
   "execution_count": null,
   "metadata": {
    "collapsed": true
   },
   "outputs": [],
   "source": [
    "%matplotlib inline\n",
    "import random\n",
    "import matplotlib.pyplot as plt\n",
    "import numpy as np\n",
    "import copy"
   ]
  },
  {
   "cell_type": "code",
   "execution_count": null,
   "metadata": {
    "collapsed": true
   },
   "outputs": [],
   "source": [
    "def get_reward(state):\n",
    "    if state == 'rterm':\n",
    "        return 1.\n",
    "    else:\n",
    "        return 0.\n",
    "    \n",
    "def td_zero(no_episodes, states, gamma=0.99, alpha=0.1):\n",
    "    V = np.zeros(len(states))\n",
    "    E = np.zeros(len(states))\n",
    "    for _ in range(no_episodes):\n",
    "        s = len(states) // 2   # initialize start_state_index\n",
    "        while states[s] not in terminals:\n",
    "            action = -1 if random.randint(0, 1) else 1    # random policy\n",
    "            next_s = s + action # next state index\n",
    "            reward = get_reward(states[next_s])\n",
    "            delta = alpha * (reward + gamma * V[next_s] - V[s])\n",
    "            V[s] = V[s] + delta\n",
    "            s = next_s\n",
    "    return V"
   ]
  },
  {
   "cell_type": "markdown",
   "metadata": {},
   "source": [
    "## 5-state random walk experiment (revisited)"
   ]
  },
  {
   "cell_type": "code",
   "execution_count": null,
   "metadata": {
    "collapsed": true
   },
   "outputs": [],
   "source": [
    "states = list(range(5))\n",
    "terminals = ('lterm', 'rterm')\n",
    "states = [terminals[0]] + states + [terminals[1]]"
   ]
  },
  {
   "cell_type": "code",
   "execution_count": null,
   "metadata": {
    "collapsed": true
   },
   "outputs": [],
   "source": [
    "V_tdzero = td_zero(100, states)"
   ]
  },
  {
   "cell_type": "code",
   "execution_count": null,
   "metadata": {},
   "outputs": [],
   "source": [
    "plt.plot([i/(len(states)-1) for i in range(1, len(states)-1)], 'ko-')\n",
    "plt.plot([V_tdzero[x] for x in range(1, len(states)-1)], 'ko-', color='green', label='TD-ZERO')\n",
    "plt.xticks(range(len(states)-1), states[1:-1])\n",
    "plt.ylim([0,1])\n",
    "plt.legend(loc='best')"
   ]
  },
  {
   "cell_type": "markdown",
   "metadata": {},
   "source": [
    "## 19-state random walk experiment with 100 trials"
   ]
  },
  {
   "cell_type": "code",
   "execution_count": null,
   "metadata": {
    "collapsed": true
   },
   "outputs": [],
   "source": [
    "states = list(range(19))\n",
    "terminals = ('lterm', 'rterm')\n",
    "states = [terminals[0]] + states + [terminals[1]]"
   ]
  },
  {
   "cell_type": "code",
   "execution_count": null,
   "metadata": {
    "collapsed": true
   },
   "outputs": [],
   "source": [
    "V_tdzero = td_zero(100, states)"
   ]
  },
  {
   "cell_type": "code",
   "execution_count": null,
   "metadata": {},
   "outputs": [],
   "source": [
    "plt.plot([i/(len(states)-1) for i in range(1, len(states)-1)], 'ko-')\n",
    "plt.plot([V_tdzero[x] for x in range(1, len(states)-1)], 'ko-', color='green', label='TD-ZERO')\n",
    "plt.xticks(range(len(states)-1), states[1:-1])\n",
    "plt.ylim([0,1])\n",
    "plt.legend(loc='best')"
   ]
  },
  {
   "cell_type": "markdown",
   "metadata": {},
   "source": [
    "## 19-state random walk experiment with 1000 trials"
   ]
  },
  {
   "cell_type": "code",
   "execution_count": null,
   "metadata": {
    "collapsed": true
   },
   "outputs": [],
   "source": [
    "V_tdzero = td_zero(1000, states)"
   ]
  },
  {
   "cell_type": "code",
   "execution_count": null,
   "metadata": {},
   "outputs": [],
   "source": [
    "plt.plot([i/(len(states)-1) for i in range(1, len(states)-1)], 'ko-')\n",
    "plt.plot([V_tdzero[x] for x in range(1, len(states)-1)], 'ko-', color='green', label='TD-ZERO')\n",
    "plt.xticks(range(len(states)-1), states[1:-1])\n",
    "plt.ylim([0,1])\n",
    "plt.legend(loc='best')"
   ]
  }
 ],
 "metadata": {
  "kernelspec": {
   "display_name": "Python 3",
   "language": "python",
   "name": "python3"
  },
  "language_info": {
   "codemirror_mode": {
    "name": "ipython",
    "version": 3
   },
   "file_extension": ".py",
   "mimetype": "text/x-python",
   "name": "python",
   "nbconvert_exporter": "python",
   "pygments_lexer": "ipython3",
   "version": "3.6.6"
  }
 },
 "nbformat": 4,
 "nbformat_minor": 2
}
