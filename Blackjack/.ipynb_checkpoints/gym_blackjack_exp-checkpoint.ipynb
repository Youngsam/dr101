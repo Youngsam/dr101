{
 "cells": [
  {
   "cell_type": "code",
   "execution_count": null,
   "metadata": {},
   "outputs": [],
   "source": [
    "import gym\n",
    "from mpl_toolkits.mplot3d import Axes3D\n",
    "import matplotlib.pyplot as plt\n",
    "import numpy as np"
   ]
  },
  {
   "cell_type": "code",
   "execution_count": null,
   "metadata": {},
   "outputs": [],
   "source": [
    "env = gym.make('Blackjack-v0')"
   ]
  },
  {
   "cell_type": "code",
   "execution_count": null,
   "metadata": {},
   "outputs": [],
   "source": [
    "policy = 20\n",
    "n_episodes = 10000\n",
    "V = {(a, b, c):(0.,0.) for a in range(12, 22) for b in range(1, 11) for c in (True, False)}\n",
    "\n",
    "def do_act(psum, policy):\n",
    "    if psum >= policy:\n",
    "        return 0  # stop\n",
    "    else:\n",
    "        return 1\n",
    "\n",
    "for _ in range(n_episodes):\n",
    "    done = False\n",
    "    s = env.reset()   # player's sum, dealer's showing card, usable ace\n",
    "    a = do_act(s[0], policy)\n",
    "    temp_states = [s]\n",
    "    temp_history = [(s, a)]\n",
    "    s, r, done, info = env.step(a)\n",
    "    temp_states.append(s)\n",
    "    temp_history.append((s, a, r))\n",
    "    while not done:\n",
    "        a = do_act(s[0], policy)\n",
    "        s, r, done, info = env.step(a)\n",
    "        temp_states.append(s)\n",
    "        temp_history.append((s, a, r))\n",
    "    G = 0\n",
    "    for i, ele in enumerate(reversed(temp_history)):\n",
    "        if len(ele) == 2:\n",
    "            s, a = ele\n",
    "        else:\n",
    "            s, a, r = ele\n",
    "            G = G + r\n",
    "        if s not in list(reversed(temp_states))[i+1:]:\n",
    "            if V.get(s):\n",
    "                count, incr = V[s]\n",
    "                count += 1\n",
    "                incr = incr + (1./(count)*(G-incr))\n",
    "                V[s] = (count, incr)\n",
    "            else:\n",
    "                V[s] = 1, G"
   ]
  },
  {
   "cell_type": "code",
   "execution_count": null,
   "metadata": {},
   "outputs": [],
   "source": [
    "# Usable ace\n",
    "X, Y = np.meshgrid(range(12, 22), range(1, 11))\n",
    "Z = np.zeros(X.shape)\n",
    "\n",
    "for i in range(10):\n",
    "    for j in range(10):\n",
    "        Z[i,j] = V[(X[i,j], Y[i,j], True)][1]   # if usable_ace: episodes[(X[i,j], Y[i,j], True)][1] \n",
    "\n",
    "fig = plt.figure()\n",
    "ax = Axes3D(fig)\n",
    "ax.set_zlim(-1, 1)\n",
    "ax.invert_yaxis()\n",
    "ax.plot_wireframe(X, Y, Z)\n",
    "ax.set_ylabel('Dealer showing')\n",
    "ax.set_xlabel('Player sum')\n",
    "ax.view_init(45, 200) "
   ]
  },
  {
   "cell_type": "code",
   "execution_count": null,
   "metadata": {},
   "outputs": [],
   "source": [
    "# No usable ace\n",
    "X, Y = np.meshgrid(range(12, 22), range(1, 11))\n",
    "Z = np.zeros(X.shape)\n",
    "\n",
    "for i in range(10):\n",
    "    for j in range(10):\n",
    "        Z[i,j] = V[(X[i,j], Y[i,j], False)][1]   # if usable_ace: episodes[(X[i,j], Y[i,j], True)][1] \n",
    "\n",
    "fig = plt.figure()\n",
    "ax = Axes3D(fig)\n",
    "ax.set_zlim(-1, 1)\n",
    "ax.invert_yaxis()\n",
    "ax.plot_wireframe(X, Y, Z)\n",
    "ax.set_ylabel('Dealer showing')\n",
    "ax.set_xlabel('Player sum')\n",
    "ax.view_init(45, 200) "
   ]
  }
 ],
 "metadata": {
  "kernelspec": {
   "display_name": "Python 3",
   "language": "python",
   "name": "python3"
  },
  "language_info": {
   "codemirror_mode": {
    "name": "ipython",
    "version": 3
   },
   "file_extension": ".py",
   "mimetype": "text/x-python",
   "name": "python",
   "nbconvert_exporter": "python",
   "pygments_lexer": "ipython3",
   "version": "3.6.8"
  }
 },
 "nbformat": 4,
 "nbformat_minor": 2
}
