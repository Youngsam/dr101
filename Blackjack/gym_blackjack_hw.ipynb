{
 "cells": [
  {
   "cell_type": "code",
   "execution_count": null,
   "metadata": {},
   "outputs": [],
   "source": [
    "import gym\n",
    "from mpl_toolkits.mplot3d import Axes3D\n",
    "import matplotlib.pyplot as plt\n",
    "import numpy as np\n",
    "%matplotlib inline"
   ]
  },
  {
   "cell_type": "code",
   "execution_count": null,
   "metadata": {},
   "outputs": [],
   "source": [
    "env = gym.make('Blackjack-v0')"
   ]
  },
  {
   "cell_type": "code",
   "execution_count": null,
   "metadata": {},
   "outputs": [],
   "source": [
    "n_episodes = 500000\n",
    "Q = {((a, b, c), d):(0.,0.) for a in range(12, 22) for b in range(1, 11) for c in (True, False) for d in range(2)}\n",
    "Pi = {(a, b, c):0 for a in range(12, 22) for b in range(1, 11) for c in (True, False)}\n",
    "\n",
    "def do_act(state):\n",
    "    return Pi[state]\n",
    "\n",
    "for _ in range(n_episodes):\n",
    "    exp_state = env.reset()   # player's sum, dealer's showing card, usable ace\n",
    "    exp_action = np.random.choice(range(2))\n",
    "    while exp_state[0] < 12:\n",
    "        exp_state = env.reset()\n",
    "        \n",
    "    temp_sa = [(exp_state, exp_action)]\n",
    "    s, r, done, info = env.step(exp_action)\n",
    "    temp_history = [(exp_state, exp_action, r)]\n",
    "    while not done:\n",
    "        a = do_act(s)\n",
    "        temp_sa.append((s, a))\n",
    "        ns, r, done, info = env.step(a)\n",
    "        temp_history.append((s, a, r))\n",
    "        s = ns\n",
    "        \n",
    "    G = 0\n",
    "    for i, ele in enumerate(reversed(temp_history)):\n",
    "        s, a, r = ele\n",
    "        G = G + r\n",
    "        if (s, a) not in list(reversed(temp_sa))[i+1:]:\n",
    "            count, incr = Q[s, a]\n",
    "            count += 1\n",
    "            incr = incr + (1./(count)*(G-incr))\n",
    "            Q[s, a] = (count, incr)\n",
    "            Pi[s] = np.argmax([Q[s, action][1] for action in (0, 1)])"
   ]
  },
  {
   "cell_type": "code",
   "execution_count": null,
   "metadata": {},
   "outputs": [],
   "source": [
    "for i in range(21, 11, -1):\n",
    "    tmp = [i]\n",
    "    for j in range(1, 11):\n",
    "        x = 'S' if Pi[i, j, True]==0 else 'H'\n",
    "        tmp.append(x)\n",
    "    print('\\t'.join([str(v) for v in tmp]))\n",
    "print('\\t'+'\\t'.join([str(n) for n in range(1, 11)]))"
   ]
  },
  {
   "cell_type": "code",
   "execution_count": null,
   "metadata": {},
   "outputs": [],
   "source": [
    "data = []\n",
    "data2 = []\n",
    "for i in range(21, 11, -1):\n",
    "    tmp = []\n",
    "    tmp2 = []\n",
    "    for j in range(1, 11):\n",
    "        tmp.append(Pi[i, j, True]) # usable ace\n",
    "        tmp2.append(Pi[i, j, False]) # no usable ace\n",
    "    data.append(tmp)\n",
    "    data2.append(tmp2)\n",
    "        \n",
    "fig, ax = plt.subplots()\n",
    "ax.set_yticks(np.arange(len(data)))\n",
    "ax.set_xticks(np.arange(len(data[0])))\n",
    "ax.set_yticklabels(np.arange(21, 11, -1))\n",
    "ax.set_xticklabels(np.arange(1, 11))\n",
    "ax.set_xlabel('Dealer showing')\n",
    "ax.set_ylabel('Player sum')\n",
    "ax.set_title('Usable ace')\n",
    "ax.imshow(data, cmap='gray')\n",
    "\n",
    "fig, ax = plt.subplots()\n",
    "ax.set_yticks(np.arange(len(data2)))\n",
    "ax.set_xticks(np.arange(len(data2[0])))\n",
    "ax.set_yticklabels(np.arange(21, 11, -1))\n",
    "ax.set_xticklabels(np.arange(1, 11))\n",
    "ax.set_xlabel('Dealer showing')\n",
    "ax.set_ylabel('Player sum')\n",
    "ax.set_title('No usable ace')\n",
    "ax.imshow(data2, cmap='gray')"
   ]
  },
  {
   "cell_type": "code",
   "execution_count": null,
   "metadata": {},
   "outputs": [],
   "source": [
    "%matplotlib notebook"
   ]
  },
  {
   "cell_type": "code",
   "execution_count": null,
   "metadata": {},
   "outputs": [],
   "source": [
    "X, Y = np.meshgrid(range(12, 22), range(1, 11))\n",
    "Z = np.zeros(X.shape)\n",
    "\n",
    "for i in range(10):\n",
    "    for j in range(10):\n",
    "        state = X[i,j], Y[i,j], False   # if usable_ace: X[i,j], Y[i,j], True\n",
    "        opt_act = Pi[state]\n",
    "        Z[i,j] = Q[state, opt_act][1]   \n",
    "\n",
    "fig = plt.figure()\n",
    "ax = Axes3D(fig)\n",
    "ax.set_zlim(-1, 1)\n",
    "ax.invert_yaxis()\n",
    "ax.plot_wireframe(X, Y, Z)\n",
    "ax.set_ylabel('Dealer showing')\n",
    "ax.set_xlabel('Player sum')"
   ]
  }
 ],
 "metadata": {
  "kernelspec": {
   "display_name": "Python 3",
   "language": "python",
   "name": "python3"
  },
  "language_info": {
   "codemirror_mode": {
    "name": "ipython",
    "version": 3
   },
   "file_extension": ".py",
   "mimetype": "text/x-python",
   "name": "python",
   "nbconvert_exporter": "python",
   "pygments_lexer": "ipython3",
   "version": "3.6.8"
  }
 },
 "nbformat": 4,
 "nbformat_minor": 2
}
