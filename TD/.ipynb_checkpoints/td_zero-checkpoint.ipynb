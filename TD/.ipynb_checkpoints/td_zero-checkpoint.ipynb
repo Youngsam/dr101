{
 "cells": [
  {
   "cell_type": "code",
   "execution_count": 1,
   "metadata": {
    "collapsed": true
   },
   "outputs": [],
   "source": [
    "import random\n",
    "import matplotlib.pyplot as plt\n",
    "%matplotlib inline"
   ]
  },
  {
   "cell_type": "code",
   "execution_count": 2,
   "metadata": {
    "collapsed": true
   },
   "outputs": [],
   "source": [
    "def gen_episode(states):\n",
    "    episode = []\n",
    "    k = len(states)//2 # start node index\n",
    "    try:\n",
    "        while states[k] not in terminals:\n",
    "            episode.append(states[k])\n",
    "            action = -1 if random.randint(0, 1) else 1\n",
    "            k += action\n",
    "    finally:\n",
    "        episode.append(states[k])\n",
    "    return episode\n",
    "\n",
    "def gen_episodes(states, trials):\n",
    "    episodes = []\n",
    "    for n in range(trials):\n",
    "        episodes.append(gen_episode(states))\n",
    "    return episodes\n",
    "\n",
    "def initialize(states):\n",
    "    vals_dic = {}\n",
    "    for state in states:\n",
    "        if state not in terminals:\n",
    "            vals_dic[state]=0.5\n",
    "        else:\n",
    "            vals_dic[state]=0\n",
    "    return vals_dic\n",
    "\n",
    "def value_iteration(eps, vals_dic, alpha):\n",
    "    for t in range(0, len(eps)-1):\n",
    "        new_val = vals_dic[eps[t]]+alpha*(reward(eps[t+1])+vals_dic[eps[t+1]]-vals_dic[eps[t]])\n",
    "        vals_dic[eps[t]]=new_val\n",
    "\n",
    "def reward(state):\n",
    "    if state == 'rterm':\n",
    "        return 1.\n",
    "    else:\n",
    "        return 0."
   ]
  },
  {
   "cell_type": "code",
   "execution_count": 3,
   "metadata": {
    "collapsed": true
   },
   "outputs": [],
   "source": [
    "states = ['lterm', 'A', 'B', 'C', 'D', 'E', 'rterm']\n",
    "terminals = ('lterm', 'rterm')\n",
    "values_dic1 = initialize(states)\n",
    "values_dic10 = initialize(states)\n",
    "values_dic100 = initialize(states)"
   ]
  },
  {
   "cell_type": "code",
   "execution_count": 4,
   "metadata": {
    "collapsed": true
   },
   "outputs": [],
   "source": [
    "episodes1 = gen_episodes(states, 1)\n",
    "episodes10 = gen_episodes(states, 10)\n",
    "episodes100 = gen_episodes(states, 100)\n",
    "\n",
    "for episode in episodes1:\n",
    "\tvalue_iteration(episode, values_dic1, 0.1)\n",
    "for episode in episodes10:\n",
    "\tvalue_iteration(episode, values_dic10, 0.1)\n",
    "for episode in episodes100:\n",
    "\tvalue_iteration(episode, values_dic100, 0.1)"
   ]
  },
  {
   "cell_type": "code",
   "execution_count": 5,
   "metadata": {},
   "outputs": [
    {
     "data": {
      "text/plain": [
       "<matplotlib.legend.Legend at 0x1b527034c18>"
      ]
     },
     "execution_count": 5,
     "metadata": {},
     "output_type": "execute_result"
    },
    {
     "data": {
      "image/png": "[encoded data removed]",
      "text/plain": [
       "<matplotlib.figure.Figure at 0x1b524f98cf8>"
      ]
     },
     "metadata": {},
     "output_type": "display_data"
    }
   ],
   "source": [
    "plt.plot([1/6., 2/6., 3/6., 4/6., 5/6.], 'ko-')\n",
    "plt.plot([values_dic1[x] for x in states[1:-1]], 'ko-', color='r', label='1')\n",
    "plt.plot([values_dic10[x] for x in states[1:-1]], 'ko-', color='g', label='10')\n",
    "plt.plot([values_dic100[x] for x in states[1:-1]], 'ko-', color='b', label='100')\n",
    "plt.xticks(range(6), states[1:-1])\n",
    "plt.ylim([0,1])\n",
    "plt.xlim([-1, 6])\n",
    "plt.legend(loc='best')"
   ]
  }
 ],
 "metadata": {
  "kernelspec": {
   "display_name": "Python 3",
   "language": "python",
   "name": "python3"
  },
  "language_info": {
   "codemirror_mode": {
    "name": "ipython",
    "version": 3
   },
   "file_extension": ".py",
   "mimetype": "text/x-python",
   "name": "python",
   "nbconvert_exporter": "python",
   "pygments_lexer": "ipython3",
   "version": "3.6.6"
  }
 },
 "nbformat": 4,
 "nbformat_minor": 1
}
